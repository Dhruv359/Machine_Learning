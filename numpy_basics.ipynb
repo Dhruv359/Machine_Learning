{
 "cells": [
  {
   "cell_type": "markdown",
   "metadata": {},
   "source": [
    "# NumPy Basics\n",
    "\n",
    "For this course, we will be using NumPy extensively for coding components. This tutorial intends to give everyone a brief overview of what we can do with NumPy.\n",
    "\n",
    "NumPy is a numerical computing library for Python. \"Nearly every scientist working in Python draws on the power of NumPy\". It is widely used in research and the industry where machine learning, data processing, data analytics, etc. are required.\n",
    "\n",
    "Reference: https://numpy.org/doc/1.19/\n",
    "\n",
    "**NOTE:** Make sure you have the environment setup correctly. Please refer to the course website: https://www.cs.toronto.edu/~fleet/courses/C11/index.html."
   ]
  },
  {
   "cell_type": "code",
   "execution_count": 1,
   "metadata": {},
   "outputs": [],
   "source": [
    "import numpy as np"
   ]
  },
  {
   "cell_type": "markdown",
   "metadata": {},
   "source": [
    "## N-D Arrays\n",
    "NumPy's main object is the homogeneous multidimensional array. In other words, it is a \"table\" consisting elements of same type (usually numbers) that can be indexed by integers. In NumPy, dimensions are known as axes. For this course, you will mostly deal with dimensions up to 3."
   ]
  },
  {
   "cell_type": "code",
   "execution_count": 2,
   "metadata": {},
   "outputs": [
    {
     "output_type": "stream",
     "name": "stdout",
     "text": [
      "[[1 2 3]\n [2 3 4]]\nint64\n(2, 3)\n2\n6\n"
     ]
    }
   ],
   "source": [
    "a = np.array([[1, 2, 3],\n",
    "              [2, 3, 4]])\n",
    "\n",
    "print(a)\n",
    "\n",
    "# This checks the type of the array\n",
    "print(a.dtype)\n",
    "\n",
    "# This checks the dimensions (shape) of the array\n",
    "print(a.shape)\n",
    "\n",
    "# This checks the number of dimensions\n",
    "print(a.ndim)\n",
    "\n",
    "# This checks the total number of entries in the array\n",
    "print(a.size)"
   ]
  },
  {
   "cell_type": "markdown",
   "metadata": {},
   "source": [
    "## Array Creation"
   ]
  },
  {
   "cell_type": "code",
   "execution_count": 3,
   "metadata": {},
   "outputs": [
    {
     "output_type": "stream",
     "name": "stdout",
     "text": [
      "[[0. 0.]\n [0. 0.]\n [0. 0.]\n [0. 0.]\n [0. 0.]]\n[[1. 1.]\n [1. 1.]\n [1. 1.]\n [1. 1.]\n [1. 1.]]\n2\n[[1. 0. 0. 0. 0. 0. 0. 0. 0. 0.]\n [0. 1. 0. 0. 0. 0. 0. 0. 0. 0.]\n [0. 0. 1. 0. 0. 0. 0. 0. 0. 0.]\n [0. 0. 0. 1. 0. 0. 0. 0. 0. 0.]\n [0. 0. 0. 0. 1. 0. 0. 0. 0. 0.]\n [0. 0. 0. 0. 0. 1. 0. 0. 0. 0.]\n [0. 0. 0. 0. 0. 0. 1. 0. 0. 0.]\n [0. 0. 0. 0. 0. 0. 0. 1. 0. 0.]\n [0. 0. 0. 0. 0. 0. 0. 0. 1. 0.]\n [0. 0. 0. 0. 0. 0. 0. 0. 0. 1.]]\n[ 1  2  3  4  5  6  7  8  9 10]\n[0.  0.1 0.2 0.3 0.4 0.5 0.6 0.7 0.8 0.9 1. ]\n"
     ]
    }
   ],
   "source": [
    "# Create zero array\n",
    "zero_array = np.zeros(shape=(5, 2))\n",
    "\n",
    "# Create one array\n",
    "one_array = np.ones(shape=(5, 2))\n",
    "\n",
    "# Creating arrays filled with specific values\n",
    "fill_array = np.full(shape=(5, 2), fill_value=10, dtype=np.float)\n",
    "fill_array = fill_array.shape[1]\n",
    "\n",
    "# Create Identity matrix\n",
    "identity = np.eye(10)\n",
    "\n",
    "# Create an array from 1 to 10\n",
    "seq = np.arange(1, 11)\n",
    "\n",
    "# Create an array from 0 to 1 spaced by 0.1\n",
    "seq_2 = np.arange(0, 1.1, 0.1)\n",
    "\n",
    "print(zero_array)\n",
    "print(one_array)\n",
    "print(fill_array)\n",
    "print(identity)\n",
    "print(seq)\n",
    "print(seq_2)"
   ]
  },
  {
   "cell_type": "markdown",
   "metadata": {},
   "source": [
    "## Shape Manipulation and Indexing\n",
    "### 2D arrays"
   ]
  },
  {
   "cell_type": "code",
   "execution_count": 4,
   "metadata": {
    "scrolled": true
   },
   "outputs": [
    {
     "output_type": "stream",
     "name": "stdout",
     "text": [
      "[ 1  2  3  4  5  6  7  8  9 10 11 12]\n[[ 1  2  3]\n [ 4  5  6]\n [ 7  8  9]\n [10 11 12]]\n[[ 1  4  7 10]\n [ 2  5  8 11]\n [ 3  6  9 12]]\n4\n[ 1  4  7 10]\n[7 8 9]\n[[ 1  7 10]\n [ 2  8 11]\n [ 3  9 12]]\n[ 7 10  5  8 11  6  9 12]\n"
     ]
    }
   ],
   "source": [
    "seq = np.arange(1, 13)\n",
    "print(seq)\n",
    "\n",
    "# Reshape to a 2D array of shape (4, 3)\n",
    "# Note that the new shape needs to match the number of elements in the array\n",
    "reshaped_seq = seq.reshape((4, 3))\n",
    "print(reshaped_seq)\n",
    "\n",
    "# Transpose a 2D array\n",
    "reshaped_seq = reshaped_seq.T\n",
    "print(reshaped_seq)\n",
    "\n",
    "# Take first row, second column of reshaped_seq\n",
    "print(reshaped_seq[0, 1])\n",
    "\n",
    "# Take first row\n",
    "print(reshaped_seq[0])\n",
    "\n",
    "# Take third column\n",
    "print(reshaped_seq[:, 2])\n",
    "\n",
    "# Take columns 0, 2, 3 of both rows\n",
    "print(reshaped_seq[:, [0, 2, 3]])\n",
    "\n",
    "# You can take elements based on conditions (advance indexing)\n",
    "# Take elements greater than 4\n",
    "print(reshaped_seq[reshaped_seq > 4])"
   ]
  },
  {
   "cell_type": "markdown",
   "metadata": {},
   "source": [
    "### Higher Dimensional Arrays\n",
    "It is important to get comfortable with multidimensional arrays with dimension > 2.\n",
    "In this case, we will refer each dimension using index notation\n",
    "```\n",
    "(d_0, d_1, d_2, ..., d_n)\n",
    "```\n",
    "\n",
    "Please make sure you understand how these work! You will be able to write elegant and efficient code with this!"
   ]
  },
  {
   "cell_type": "code",
   "execution_count": 5,
   "metadata": {
    "scrolled": false
   },
   "outputs": [
    {
     "output_type": "stream",
     "name": "stdout",
     "text": [
      "[[[ 1  2  3]\n  [ 4  5  6]]\n\n [[ 7  8  9]\n  [10 11 12]]]\n[[[ 1  7]\n  [ 4 10]]\n\n [[ 2  8]\n  [ 5 11]]\n\n [[ 3  9]\n  [ 6 12]]]\n[[ 1  7]\n [ 4 10]]\n[[1 7]\n [2 8]\n [3 9]]\n[[1 4]\n [2 5]\n [3 6]]\n[ 9 12]\n[ 7 10  8  5 11  9  6 12]\n"
     ]
    }
   ],
   "source": [
    "# Reshape to a 3D array of shape (2, 2, 3)\n",
    "reshaped_seq = seq.reshape((2, 2, 3))\n",
    "print(reshaped_seq)\n",
    "\n",
    "# Transpose an array. You can consider this as swapping axes\n",
    "# Swap first and last axes\n",
    "reshaped_seq = reshaped_seq.transpose(2, 1, 0)\n",
    "print(reshaped_seq)\n",
    "\n",
    "# Take first d_0\n",
    "print(reshaped_seq[0])\n",
    "\n",
    "# Take first d_1\n",
    "print(reshaped_seq[:, 0])\n",
    "\n",
    "# Take first d_2\n",
    "print(reshaped_seq[..., 0])\n",
    "\n",
    "# Take third d_0 and second d_2\n",
    "print(reshaped_seq[2, :, 1])\n",
    "\n",
    "# You can take elements based on conditions (advance indexing)\n",
    "# Take elements greater than 4\n",
    "print(reshaped_seq[reshaped_seq > 4])"
   ]
  },
  {
   "cell_type": "markdown",
   "metadata": {},
   "source": [
    "## Math Operations"
   ]
  },
  {
   "cell_type": "code",
   "execution_count": 50,
   "metadata": {},
   "outputs": [
    {
     "name": "stdout",
     "output_type": "stream",
     "text": [
      "[[0.  1.1]\n",
      " [2.2 3.3]\n",
      " [4.4 5.5]\n",
      " [6.6 7.7]\n",
      " [8.8 9.9]]\n",
      "[[0.  0.1]\n",
      " [0.4 0.9]\n",
      " [1.6 2.5]\n",
      " [3.6 4.9]\n",
      " [6.4 8.1]]\n",
      "[[nan 10.]\n",
      " [10. 10.]\n",
      " [10. 10.]\n",
      " [10. 10.]\n",
      " [10. 10.]]\n",
      "[[1.         1.        ]\n",
      " [1.14869835 1.39038917]\n",
      " [1.74110113 2.23606798]\n",
      " [2.93015605 3.90452878]\n",
      " [5.27803164 7.22467406]]\n",
      "[[ 0.1  0.3  0.5  0.7  0.9]\n",
      " [ 0.3  1.3  2.3  3.3  4.3]\n",
      " [ 0.5  2.3  4.1  5.9  7.7]\n",
      " [ 0.7  3.3  5.9  8.5 11.1]\n",
      " [ 0.9  4.3  7.7 11.1 14.5]]\n",
      "[[ 0.1  0.3  0.5  0.7  0.9]\n",
      " [ 0.3  1.3  2.3  3.3  4.3]\n",
      " [ 0.5  2.3  4.1  5.9  7.7]\n",
      " [ 0.7  3.3  5.9  8.5 11.1]\n",
      " [ 0.9  4.3  7.7 11.1 14.5]]\n"
     ]
    },
    {
     "name": "stderr",
     "output_type": "stream",
     "text": [
      "/home/chanb/Documents/teaching/cscc11_f20/cscc11/lib/python3.7/site-packages/ipykernel_launcher.py:11: RuntimeWarning: invalid value encountered in true_divide\n",
      "  # This is added back by InteractiveShellApp.init_path()\n"
     ]
    }
   ],
   "source": [
    "a = np.arange(0, 10).reshape(5, 2)\n",
    "b = np.arange(0, 1, 0.1).reshape(5, 2)\n",
    "\n",
    "# Element-wise addition\n",
    "print(a + b)\n",
    "\n",
    "# Element-wise multiplication\n",
    "print(a * b)\n",
    "\n",
    "# Element-wise division\n",
    "print(a / b)\n",
    "\n",
    "# Element-wise exponential\n",
    "print(a ** b)\n",
    "\n",
    "# Matrix multiplication\n",
    "print(a @ b.T)\n",
    "print(np.matmul(a, b.T))"
   ]
  },
  {
   "cell_type": "markdown",
   "metadata": {},
   "source": [
    "### Higher Dimensional Arrays\n",
    "Most operations are the same in higher dimensional arrays. But you might be curious about how we can perform matrix multiplcation (if we can)."
   ]
  },
  {
   "cell_type": "code",
   "execution_count": 6,
   "metadata": {},
   "outputs": [
    {
     "output_type": "stream",
     "name": "stdout",
     "text": [
      "[[[  0.5   1.4]\n  [  1.4   5. ]]\n\n [[ 14.9  21.2]\n  [ 21.2  30.2]]\n\n [[ 50.9  62.6]\n  [ 62.6  77. ]]\n\n [[108.5 125.6]\n  [125.6 145.4]]]\n[[[  0.5   1.4]\n  [  1.4   5. ]]\n\n [[ 14.9  21.2]\n  [ 21.2  30.2]]\n\n [[ 50.9  62.6]\n  [ 62.6  77. ]]\n\n [[108.5 125.6]\n  [125.6 145.4]]]\n[[[  0   1   4]\n  [  9  16  25]]\n\n [[  0   7  16]\n  [ 27  40  55]]\n\n [[  0  13  28]\n  [ 45  64  85]]\n\n [[  0  19  40]\n  [ 63  88 115]]]\n"
     ]
    }
   ],
   "source": [
    "a = np.arange(0, 24).reshape(4, 2, 3)\n",
    "b = np.arange(0, 2.4, 0.1).reshape(4, 2, 3)\n",
    "\n",
    "# You can perform batch matrix multiplcation\n",
    "# This treats the 3D arrays as d_0 2D arrays, and perform matrix multiplication for each i = 1, ..., d_0\n",
    "print(a @ b.transpose(0, 2, 1))\n",
    "print(np.matmul(a, b.transpose(0, 2, 1)))\n",
    "\n",
    "# What if we want to do the same element-wise multiplication on the last two axes of a 3D array given a 2D array?\n",
    "# There is a notion of broadcasting. See here: https://numpy.org/doc/1.19/user/basics.broadcasting.html\n",
    "c = np.arange(0, 6).reshape(2, 3)\n",
    "print(a * c)"
   ]
  },
  {
   "cell_type": "markdown",
   "metadata": {},
   "source": [
    "## Some Other Dirty Tricks?"
   ]
  },
  {
   "cell_type": "code",
   "execution_count": 7,
   "metadata": {},
   "outputs": [
    {
     "output_type": "stream",
     "name": "stdout",
     "text": [
      "[0 1 2]\n[  1  10 100]\n[0. 0. 0. 1. 0.]\n"
     ]
    }
   ],
   "source": [
    "a = np.arange(10)\n",
    "b = np.arange(20).reshape(2, 10, 1)\n",
    "\n",
    "# Say you want to do matrix multiplcation between b and a,\n",
    "# but clearly a is an axis short. We can \"expand dimension\" quickly\n",
    "#print(b @ a.reshape((1, 10)))\n",
    "#print(b @ a[None, ...])\n",
    "\n",
    "# If you want to apply a vector of exponents onto a single scalar\n",
    "a = 10\n",
    "b = np.arange(3)\n",
    "print(b)\n",
    "print(a ** b)\n",
    "\n",
    "# Create one-hot encoding\n",
    "# Say you want a one-hot encoding such that vector is in R^5, and the fourth element is 1\n",
    "print(np.eye(5)[3])"
   ]
  },
  {
   "cell_type": "markdown",
   "metadata": {},
   "source": [
    "## Common types\n",
    "Depending on the situation, you may prefer one type over the other. Here is the list of most commonly used types:\n",
    "```\n",
    "np.uint8\n",
    "np.int32\n",
    "np.int64\n",
    "np.float32\n",
    "np.float64\n",
    "np.bool\n",
    "```\n",
    "\n",
    "Understanding which type to use based on the context is important as you deal with large datasets. Imagine a 84x84 RGB image (i.e. `shape=(84, 84, 3)`). Storing 10000 images in `np.float64` will take up approximately 1.577GB of memory, whereas `np.uint8` only takes up approximately 197MB."
   ]
  },
  {
   "cell_type": "code",
   "execution_count": 8,
   "metadata": {},
   "outputs": [
    {
     "name": "stdout",
     "output_type": "stream",
     "text": [
      "[[1. 2. 3.]\n",
      " [2. 3. 4.]]\n",
      "float32\n"
     ]
    }
   ],
   "source": [
    "# You can enforce the type of a numpy array\n",
    "a = np.array([[1, 2, 3],\n",
    "              [2, 3, 4]],\n",
    "             np.float32)\n",
    "\n",
    "print(a)\n",
    "print(a.dtype)"
   ]
  },
  {
   "cell_type": "markdown",
   "metadata": {},
   "source": [
    "## NaN and Inf\n",
    "For different scenarios, you may encounter `nan` (Not a Number) and `inf` (Infinity) values.\n",
    "`nan` usually occurs when your function input is not part of the function domain (e.g. log of a negative value).\n",
    "`inf` usually occurs when your function computes a number that is too large (e.g. e^x)."
   ]
  },
  {
   "cell_type": "code",
   "execution_count": 8,
   "metadata": {},
   "outputs": [
    {
     "output_type": "stream",
     "name": "stdout",
     "text": [
      "nan\n",
      "nan\n",
      "inf\n",
      "<ipython-input-8-56df0cfd25d6>:1: RuntimeWarning: invalid value encountered in log\n",
      "  print(np.log(-1))\n",
      "<ipython-input-8-56df0cfd25d6>:2: RuntimeWarning: invalid value encountered in true_divide\n",
      "  print(np.array(0.) / np.array(0.))\n",
      "<ipython-input-8-56df0cfd25d6>:3: RuntimeWarning: overflow encountered in exp\n",
      "  print(np.exp(1000))\n"
     ]
    }
   ],
   "source": [
    "print(np.log(-1))\n",
    "print(np.array(0.) / np.array(0.))\n",
    "print(np.exp(1000))"
   ]
  },
  {
   "cell_type": "markdown",
   "metadata": {},
   "source": [
    "# Final Words\n",
    "Read [here](https://numpy.org/doc/1.19/user/quickstart.html) for more tutorials! They are short and concise"
   ]
  },
  {
   "cell_type": "code",
   "execution_count": null,
   "metadata": {},
   "outputs": [],
   "source": []
  }
 ],
 "metadata": {
  "kernelspec": {
   "display_name": "Python 3",
   "language": "python",
   "name": "python3"
  },
  "language_info": {
   "codemirror_mode": {
    "name": "ipython",
    "version": 3
   },
   "file_extension": ".py",
   "mimetype": "text/x-python",
   "name": "python",
   "nbconvert_exporter": "python",
   "pygments_lexer": "ipython3",
   "version": "3.8.5"
  }
 },
 "nbformat": 4,
 "nbformat_minor": 4
}