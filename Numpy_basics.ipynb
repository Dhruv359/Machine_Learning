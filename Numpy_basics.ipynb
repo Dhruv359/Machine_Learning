{
 "cells": [
  {
   "cell_type": "markdown",
   "metadata": {},
   "source": [
    "# NumPy Introduction "
   ]
  },
  {
   "cell_type": "code",
   "execution_count": 1,
   "metadata": {},
   "outputs": [],
   "source": [
    "import numpy as np"
   ]
  },
  {
   "cell_type": "markdown",
   "metadata": {},
   "source": [
    "### Basics  "
   ]
  },
  {
   "cell_type": "code",
   "execution_count": 2,
   "metadata": {},
   "outputs": [
    {
     "name": "stdout",
     "output_type": "stream",
     "text": [
      "[11 22 33]\n"
     ]
    }
   ],
   "source": [
    "a = np.array([11,22,33])\n",
    "print(a)"
   ]
  },
  {
   "cell_type": "code",
   "execution_count": 3,
   "metadata": {},
   "outputs": [
    {
     "name": "stdout",
     "output_type": "stream",
     "text": [
      "[[ 2  5 11  7]\n",
      " [ 6  2  9 17]]\n",
      "\n",
      "\n",
      "[[[ 1  2  3]\n",
      "  [ 4  5  6]]\n",
      "\n",
      " [[ 7  8  9]\n",
      "  [10 11 12]]\n",
      "\n",
      " [[13 14 15]\n",
      "  [16 17 18]]]\n"
     ]
    }
   ],
   "source": [
    "b = np.array([[2,5,11,7],[6,2,9,17]])\n",
    "print(b)\n",
    "print(\"\\n\")\n",
    "\n",
    "c = np.array([[[1,2,3],[4,5,6]],[[7,8,9],[10,11,12]],[[13,14,15],[16,17,18]]])\n",
    "print(c)"
   ]
  },
  {
   "cell_type": "code",
   "execution_count": 4,
   "metadata": {},
   "outputs": [
    {
     "name": "stdout",
     "output_type": "stream",
     "text": [
      "2\n",
      "\n",
      "\n",
      "2 4\n",
      "3 2 3\n",
      "\n",
      "\n",
      "int64\n",
      "\n",
      "\n",
      "18\n",
      "\n",
      "\n",
      "int32\n",
      "\n",
      "\n"
     ]
    }
   ],
   "source": [
    "# Get Dimension  \n",
    "print(b.ndim)\n",
    "print(\"\\n\")\n",
    "\n",
    "# Get Shape \n",
    "(K,M) = b.shape\n",
    "L,B,H = c.shape\n",
    "print(K,M)\n",
    "print(L,B,H)\n",
    "print(\"\\n\")\n",
    "\n",
    "# Get Type\n",
    "print(b.dtype)\n",
    "print(\"\\n\")\n",
    "\n",
    "# Total no. of entries in the array\n",
    "print(c.size)\n",
    "print(\"\\n\")\n",
    "\n",
    "# To Specify Datatype when building array: \n",
    "d = np.array([4.5,2.6,7.7], dtype = 'int32')\n",
    "print(d.dtype)\n",
    "print(\"\\n\")"
   ]
  },
  {
   "cell_type": "code",
   "execution_count": 184,
   "metadata": {},
   "outputs": [
    {
     "name": "stdout",
     "output_type": "stream",
     "text": [
      "[ 5  6  7  8  9 10]\n",
      "\n",
      "\n"
     ]
    }
   ],
   "source": [
    "# Create an array from 1 to 10\n",
    "seq = np.arange(1, 11)\n",
    "print(seq[4:])\n",
    "print(\"\\n\")\n",
    "\n",
    "# Create an array from 0 to 1 spaced by 0.1\n",
    "seq_2 = np.arange(0, 1.1, 0.1)"
   ]
  },
  {
   "cell_type": "markdown",
   "metadata": {},
   "source": [
    "### Accessing/ Changing specific elements, rows, coloumns, etc "
   ]
  },
  {
   "cell_type": "code",
   "execution_count": 6,
   "metadata": {},
   "outputs": [
    {
     "name": "stdout",
     "output_type": "stream",
     "text": [
      "[[ 1  2  3  4  5  6  7]\n",
      " [ 8  9 10 11 12 13 14]]\n",
      "\n",
      "\n",
      "[[20  2  3  4  5  6  7]\n",
      " [ 8  9 10 11 12 13 14]]\n",
      "None\n",
      "\n",
      "\n",
      "[[90  2  3 89  5  6  7]\n",
      " [90  9 10 89 12 13 14]]\n",
      "\n",
      "\n",
      "[[90  2  3 89  5  6  7]\n",
      " [ 5  5  5  5  5  5  5]]\n",
      "\n",
      "\n",
      "[[90  2  3 89  5  6  7]\n",
      " [ 1  3  4  5  6  7  7]]\n",
      "\n",
      "\n",
      "[[ 1  3  4  5  6  7  7]\n",
      " [90  2  3 89  5  6  7]]\n",
      "\n",
      "\n",
      "[90  2  6  4  6]\n",
      "\n",
      "\n",
      "[ 1  2  3  4  5  6  7 89 90]\n"
     ]
    }
   ],
   "source": [
    "a = np.array([[1,2,3,4,5,6,7],[8,9,10,11,12,13,14]])\n",
    "print(a)\n",
    "print(\"\\n\")\n",
    "\n",
    "# Get a specific element [row, col]\n",
    "a[0,4]\n",
    "a.item(0,4)\n",
    "\n",
    "# Get a Specific row\n",
    "a[1, :]\n",
    "\n",
    "# Get a specific coloumn \n",
    "a[: , 4]\n",
    "\n",
    "# Changing values\n",
    "a[0,0] = 20\n",
    "print(a)\n",
    "print(np.put(a,[0,7],[90,90]))\n",
    "print(\"\\n\")\n",
    "\n",
    "# Changing rows or cols\n",
    "a[ :, 3]= [89,89]\n",
    "print(a)\n",
    "print(\"\\n\")\n",
    "\n",
    "a[1, :]= [5]\n",
    "print(a)\n",
    "print(\"\\n\")\n",
    "\n",
    "a[1, :]= [1,3,4,5,6,7,7]\n",
    "print(a)\n",
    "print(\"\\n\")\n",
    "\n",
    "# Flipping Array \n",
    "print(a[::-1])   #Works for any dimension\n",
    "print(\"\\n\")\n",
    "\n",
    "# All Evens Numbers\n",
    "print(a[a%2==0])\n",
    "print(\"\\n\")\n",
    "\n",
    "# Unique Values \n",
    "print(np.unique(a))"
   ]
  },
  {
   "cell_type": "code",
   "execution_count": 7,
   "metadata": {},
   "outputs": [
    {
     "name": "stdout",
     "output_type": "stream",
     "text": [
      "[[[ 1  2  3]\n",
      "  [ 4  5  6]]\n",
      "\n",
      " [[ 7  8  9]\n",
      "  [10 11 12]]\n",
      "\n",
      " [[13 14 15]\n",
      "  [16 17 18]]]\n",
      "3\n",
      "8\n",
      "16\n",
      "[[ 2  5 11  7]\n",
      " [ 6  2  9 17]]\n",
      "[[ 5 11]\n",
      " [ 2  9]]\n",
      "[ 7 10]\n",
      "[4 5 6]\n"
     ]
    }
   ],
   "source": [
    "# Get specific element in 3-d \n",
    "print(c)\n",
    "\n",
    "# To get 3: \n",
    "print(c[0,0,2])\n",
    "\n",
    "# To get 8: \n",
    "print(c[1,0,1])\n",
    "\n",
    "# To get 16: \n",
    "print(c[2,1,0])\n",
    "\n",
    "# Take columns 2, 3 of both rows\n",
    "print(b)\n",
    "print(b[:, [1, 2]])\n",
    "\n",
    "#(work outside in : specify dimension, specify specify row and col)\n",
    "# To get col in 3D\n",
    "print(c[1,:, 0])\n",
    "\n",
    "# To get row in 3D\n",
    "print(c[0,1,:])"
   ]
  },
  {
   "cell_type": "markdown",
   "metadata": {},
   "source": [
    "### Initializinig Different Types of Arrays"
   ]
  },
  {
   "cell_type": "code",
   "execution_count": 8,
   "metadata": {},
   "outputs": [
    {
     "data": {
      "text/plain": [
       "array([[0., 0., 0.],\n",
       "       [0., 0., 0.]])"
      ]
     },
     "execution_count": 8,
     "metadata": {},
     "output_type": "execute_result"
    }
   ],
   "source": [
    "# All 0's matrix \n",
    "x = np.zeros((2,3))\n",
    "x"
   ]
  },
  {
   "cell_type": "code",
   "execution_count": 9,
   "metadata": {},
   "outputs": [
    {
     "name": "stdout",
     "output_type": "stream",
     "text": [
      "[[1. 1. 1. 1. 1.]\n",
      " [1. 1. 1. 1. 1.]\n",
      " [1. 1. 1. 1. 1.]\n",
      " [1. 1. 1. 1. 1.]]\n",
      "[[[1. 1. 1.]\n",
      "  [1. 1. 1.]\n",
      "  [1. 1. 1.]\n",
      "  [1. 1. 1.]\n",
      "  [1. 1. 1.]]\n",
      "\n",
      " [[1. 1. 1.]\n",
      "  [1. 1. 1.]\n",
      "  [1. 1. 1.]\n",
      "  [1. 1. 1.]\n",
      "  [1. 1. 1.]]\n",
      "\n",
      " [[1. 1. 1.]\n",
      "  [1. 1. 1.]\n",
      "  [1. 1. 1.]\n",
      "  [1. 1. 1.]\n",
      "  [1. 1. 1.]]\n",
      "\n",
      " [[1. 1. 1.]\n",
      "  [1. 1. 1.]\n",
      "  [1. 1. 1.]\n",
      "  [1. 1. 1.]\n",
      "  [1. 1. 1.]]]\n"
     ]
    }
   ],
   "source": [
    "# All 1's matrix\n",
    "print(np.ones((4,5)))\n",
    "print(np.ones((4,5,3)))"
   ]
  },
  {
   "cell_type": "code",
   "execution_count": 10,
   "metadata": {},
   "outputs": [
    {
     "data": {
      "text/plain": [
       "array([[99, 99, 99],\n",
       "       [99, 99, 99],\n",
       "       [99, 99, 99]])"
      ]
     },
     "execution_count": 10,
     "metadata": {},
     "output_type": "execute_result"
    }
   ],
   "source": [
    "# Any other number \n",
    "np.full((3,3), 99)"
   ]
  },
  {
   "cell_type": "code",
   "execution_count": 11,
   "metadata": {},
   "outputs": [
    {
     "name": "stdout",
     "output_type": "stream",
     "text": [
      "[[0.68502291 0.47263226]\n",
      " [0.54429488 0.33037806]\n",
      " [0.36718096 0.26714637]\n",
      " [0.59823909 0.38088088]]\n"
     ]
    },
    {
     "data": {
      "text/plain": [
       "array([[0.68592502, 0.34064101, 0.27300982, 0.1727535 , 0.48130378,\n",
       "        0.29393847, 0.51193759],\n",
       "       [0.99489613, 0.02043721, 0.26575013, 0.17522839, 0.68687392,\n",
       "        0.21579866, 0.37520731]])"
      ]
     },
     "execution_count": 11,
     "metadata": {},
     "output_type": "execute_result"
    }
   ],
   "source": [
    "# Random Decimal Numbers \n",
    "print(np.random.rand(4,2))\n",
    "\n",
    "np.random.random_sample(a.shape)"
   ]
  },
  {
   "cell_type": "code",
   "execution_count": 12,
   "metadata": {},
   "outputs": [
    {
     "data": {
      "text/plain": [
       "array([[-1,  3,  0,  9],\n",
       "       [ 1,  7,  2,  3],\n",
       "       [ 8,  1,  5,  0],\n",
       "       [ 3,  4, -2,  3]])"
      ]
     },
     "execution_count": 12,
     "metadata": {},
     "output_type": "execute_result"
    }
   ],
   "source": [
    "# Random Integer Value \n",
    "np.random.randint(-2,10, size=(4,4))"
   ]
  },
  {
   "cell_type": "code",
   "execution_count": 13,
   "metadata": {},
   "outputs": [
    {
     "data": {
      "text/plain": [
       "array([[1., 0., 0., 0., 0.],\n",
       "       [0., 1., 0., 0., 0.],\n",
       "       [0., 0., 1., 0., 0.],\n",
       "       [0., 0., 0., 1., 0.],\n",
       "       [0., 0., 0., 0., 1.]])"
      ]
     },
     "execution_count": 13,
     "metadata": {},
     "output_type": "execute_result"
    }
   ],
   "source": [
    "# Identity Matrix \n",
    "np.identity(5)"
   ]
  },
  {
   "cell_type": "code",
   "execution_count": 14,
   "metadata": {},
   "outputs": [
    {
     "name": "stdout",
     "output_type": "stream",
     "text": [
      "[[1. 1. 1. 1. 1.]\n",
      " [1. 1. 1. 1. 1.]\n",
      " [1. 1. 1. 1. 1.]\n",
      " [1. 1. 1. 1. 1.]\n",
      " [1. 1. 1. 1. 1.]]\n",
      "[[0. 0. 0.]\n",
      " [0. 9. 0.]\n",
      " [0. 0. 0.]]\n",
      "[[1. 1. 1. 1. 1.]\n",
      " [1. 0. 0. 0. 1.]\n",
      " [1. 0. 9. 0. 1.]\n",
      " [1. 0. 0. 0. 1.]\n",
      " [1. 1. 1. 1. 1.]]\n"
     ]
    }
   ],
   "source": [
    "# Interesting Array Creation \n",
    "output = np.ones((5,5))\n",
    "print(output)\n",
    "\n",
    "z = np.zeros((3,3))\n",
    "z[1,1] = 9\n",
    "print(z)\n",
    "\n",
    "output[1:4, 1:4] = z\n",
    "print(output)"
   ]
  },
  {
   "cell_type": "markdown",
   "metadata": {},
   "source": [
    "####  Be careful about copying np arrays "
   ]
  },
  {
   "cell_type": "code",
   "execution_count": 15,
   "metadata": {},
   "outputs": [
    {
     "name": "stdout",
     "output_type": "stream",
     "text": [
      "[100   2   3]\n",
      "[100   2   3]\n",
      "[1 2 3]\n",
      "[100   2   3]\n"
     ]
    }
   ],
   "source": [
    "a = np.array([1,2,3])\n",
    "b=a # b will point to the same location as a does, so: \n",
    "b[0] = 100\n",
    "print(a)\n",
    "print(b)\n",
    "\n",
    "# Instead np.copy \n",
    "y = np.array([1,2,3])\n",
    "k = np.copy(y)\n",
    "k[0]=100\n",
    "print(y)\n",
    "print(k)"
   ]
  },
  {
   "cell_type": "markdown",
   "metadata": {},
   "source": [
    "## Mathematics "
   ]
  },
  {
   "cell_type": "code",
   "execution_count": 16,
   "metadata": {},
   "outputs": [
    {
     "name": "stdout",
     "output_type": "stream",
     "text": [
      "[1 2 3 4]\n"
     ]
    }
   ],
   "source": [
    "a = np.array([1,2,3,4])\n",
    "print(a)"
   ]
  },
  {
   "cell_type": "code",
   "execution_count": 17,
   "metadata": {
    "scrolled": true
   },
   "outputs": [
    {
     "name": "stdout",
     "output_type": "stream",
     "text": [
      "[3 4 5 6]\n",
      "[-1  0  1  2]\n",
      "[2 4 6 8]\n",
      "[0.5 1.  1.5 2. ]\n"
     ]
    }
   ],
   "source": [
    "# Element-wise operation\n",
    "print(a + 2)\n",
    "print(a - 2)\n",
    "print(a * 2)\n",
    "print(a /2)"
   ]
  },
  {
   "cell_type": "code",
   "execution_count": 18,
   "metadata": {},
   "outputs": [
    {
     "name": "stdout",
     "output_type": "stream",
     "text": [
      "[ 9  6  8 10]\n",
      "[ 8  8 15 24]\n",
      "[0.125      0.5        0.6        0.66666667]\n",
      "[ 1  4  9 16]\n",
      "[[1 2]\n",
      " [3 4]]\n",
      "[[8 4]\n",
      " [5 6]]\n",
      "[[18 16]\n",
      " [44 36]]\n"
     ]
    }
   ],
   "source": [
    "b = np.array([8,4,5,6])\n",
    "print(a+b)\n",
    "print(a*b)\n",
    "print(a/b)\n",
    "print(a**2)\n",
    "\n",
    "# Linear Algebra : Matrix Multiplication\n",
    "print(a.reshape(2,2))\n",
    "print(b.reshape(2,2))\n",
    "print(np.matmul(a.reshape(2,2),b.reshape(2,2)))"
   ]
  },
  {
   "cell_type": "markdown",
   "metadata": {},
   "source": [
    "#### Reorganizing Arrays \n"
   ]
  },
  {
   "cell_type": "code",
   "execution_count": 19,
   "metadata": {},
   "outputs": [
    {
     "name": "stdout",
     "output_type": "stream",
     "text": [
      "[[ 1  2  3  4]\n",
      " [ 6  7 34  2]]\n",
      "\n",
      "\n",
      "[[ 1]\n",
      " [ 2]\n",
      " [ 3]\n",
      " [ 4]\n",
      " [ 6]\n",
      " [ 7]\n",
      " [34]\n",
      " [ 2]]\n",
      "\n",
      "\n",
      "[[ 1  6]\n",
      " [ 2  7]\n",
      " [ 3 34]\n",
      " [ 4  2]]\n",
      "\n",
      "\n",
      "[ 1  6  2  7  3 34  4  2]\n",
      "[ 1  2  3  4  6  7 34  2]\n",
      "\n",
      "\n"
     ]
    }
   ],
   "source": [
    "# Reshaping Arrays\n",
    "before = np.array([[1,2,3,4],[6,7,34,2]])\n",
    "print(before)\n",
    "print(\"\\n\")\n",
    "\n",
    "after = before.reshape(8,1)\n",
    "print(after)\n",
    "print(\"\\n\")\n",
    "\n",
    "# Transposing\n",
    "print(before.T)\n",
    "print(\"\\n\")\n",
    "\n",
    "# Flatten  Array \n",
    "#by col\n",
    "print(before.flatten('F'))\n",
    "\n",
    "#by row \n",
    "print(before.flatten())\n",
    "print(\"\\n\")\n"
   ]
  },
  {
   "cell_type": "code",
   "execution_count": 20,
   "metadata": {},
   "outputs": [
    {
     "name": "stdout",
     "output_type": "stream",
     "text": [
      "[[1]\n",
      " [5]]\n",
      "[[1]\n",
      " [5]\n",
      " [1]\n",
      " [5]\n",
      " [5]]\n"
     ]
    }
   ],
   "source": [
    "# Vertically Stacking vectors \n",
    "v1 = np.array([1])\n",
    "v2= np.array([5])\n",
    "\n",
    "print(np.vstack([v1,v2]))\n",
    "print(np.vstack([v1,v2,v1,v2,v2]))"
   ]
  },
  {
   "cell_type": "code",
   "execution_count": 21,
   "metadata": {},
   "outputs": [
    {
     "name": "stdout",
     "output_type": "stream",
     "text": [
      "[1 2 3 4 5 6 7 8]\n",
      "[1 2 3 4 5 6 7 8 1 2 3 4 5 6 7 8 5 6 7 8]\n"
     ]
    }
   ],
   "source": [
    "# Horizontal Stack \n",
    "h1 = np.array([1,2,3,4])\n",
    "h2= np.array([5,6,7,8])\n",
    "\n",
    "print(np.hstack([h1,h2]))\n",
    "print(np.hstack([h1,h2,h1,h2,h2]))"
   ]
  },
  {
   "cell_type": "code",
   "execution_count": 22,
   "metadata": {},
   "outputs": [
    {
     "name": "stdout",
     "output_type": "stream",
     "text": [
      "[[1 3 0 1]]\n",
      "[[0 2 0 2]]\n",
      "[[1 3 0 1]\n",
      " [0 2 0 2]]\n"
     ]
    },
    {
     "data": {
      "text/plain": [
       "array([[1, 3, 0, 1, 0, 2, 0, 2]])"
      ]
     },
     "execution_count": 22,
     "metadata": {},
     "output_type": "execute_result"
    }
   ],
   "source": [
    "# Row-stack and Col-stack \n",
    "r = np.random.randint(4, size =(1,4))\n",
    "s = np.random.randint(4, size =(1,4))\n",
    "print(r)\n",
    "print(s)\n",
    "print(np.row_stack([r,s]))\n",
    "np.column_stack([r,s])"
   ]
  },
  {
   "cell_type": "code",
   "execution_count": 23,
   "metadata": {},
   "outputs": [
    {
     "name": "stdout",
     "output_type": "stream",
     "text": [
      "[[ 71 179  22   5 245]\n",
      " [ 78 140 311 290 180]\n",
      " [280 121 143 120  68]\n",
      " [130 149 215  43  41]\n",
      " [248 265 186 157 123]]\n",
      "\n",
      "\n",
      "[array([[ 71],\n",
      "       [ 78],\n",
      "       [280],\n",
      "       [130],\n",
      "       [248]]), array([[179],\n",
      "       [140],\n",
      "       [121],\n",
      "       [149],\n",
      "       [265]]), array([[ 22],\n",
      "       [311],\n",
      "       [143],\n",
      "       [215],\n",
      "       [186]]), array([[  5],\n",
      "       [290],\n",
      "       [120],\n",
      "       [ 43],\n",
      "       [157]]), array([[245],\n",
      "       [180],\n",
      "       [ 68],\n",
      "       [ 41],\n",
      "       [123]])]\n",
      "\n",
      "\n",
      "[array([[ 71, 179,  22,   5, 245]]), array([[ 78, 140, 311, 290, 180]]), array([[280, 121, 143, 120,  68]]), array([[130, 149, 215,  43,  41]]), array([[248, 265, 186, 157, 123]])]\n",
      "\n",
      "\n",
      "[array([[ 71, 179,  22,   5],\n",
      "       [ 78, 140, 311, 290],\n",
      "       [280, 121, 143, 120],\n",
      "       [130, 149, 215,  43],\n",
      "       [248, 265, 186, 157]]), array([], shape=(5, 0), dtype=int64), array([[245],\n",
      "       [180],\n",
      "       [ 68],\n",
      "       [ 41],\n",
      "       [123]])]\n"
     ]
    }
   ],
   "source": [
    "# Horizontal Splitting, Vertical Splitting. \n",
    "r = np.random.randint(333, size =(5,5))\n",
    "print(r)\n",
    "print(\"\\n\")\n",
    "print(np.hsplit(r,5))\n",
    "print(\"\\n\")\n",
    "print(np.vsplit(r,5))\n",
    "print(\"\\n\")\n",
    "print(np.hsplit(r,(4,4)))"
   ]
  },
  {
   "cell_type": "code",
   "execution_count": 24,
   "metadata": {},
   "outputs": [
    {
     "name": "stdout",
     "output_type": "stream",
     "text": [
      "[[1 2 3]]\n",
      "[[1 2 3]\n",
      " [1 2 3]\n",
      " [1 2 3]]\n"
     ]
    }
   ],
   "source": [
    "# Repeating an array\n",
    "arr = np.array([[1,2,3]])\n",
    "print(arr)\n",
    "r1 = np.repeat(arr,3, axis=0)\n",
    "print(r1)"
   ]
  },
  {
   "cell_type": "code",
   "execution_count": 25,
   "metadata": {},
   "outputs": [
    {
     "name": "stdout",
     "output_type": "stream",
     "text": [
      "[2 1 0 3 4]\n",
      "\n",
      "\n",
      "[ 3  4  6  7 11]\n",
      "\n",
      "\n",
      "[1 0]\n",
      "\n",
      "\n"
     ]
    },
    {
     "data": {
      "text/plain": [
       "array([[11, 33, 42,  0,  7],\n",
       "       [ 6,  4,  3,  7, 11]])"
      ]
     },
     "execution_count": 25,
     "metadata": {},
     "output_type": "execute_result"
    }
   ],
   "source": [
    "# Indexes that would sort an array\n",
    "R = np.array([6,4,3,7,11])\n",
    "sort_idx = np.argsort(R)\n",
    "print(sort_idx)\n",
    "print(\"\\n\")\n",
    "print(R[sort_idx])\n",
    "print(\"\\n\")\n",
    "\n",
    " # in 2D\n",
    "R = np.array([[6,4,3,7,11],[11,33,42,0,7]])\n",
    "sort_idx = np.argsort(R[:, 4])\n",
    "print(sort_idx)\n",
    "print(\"\\n\")\n",
    "R[sort_idx]"
   ]
  },
  {
   "cell_type": "code",
   "execution_count": 26,
   "metadata": {},
   "outputs": [
    {
     "name": "stdout",
     "output_type": "stream",
     "text": [
      "[0 3 2 5 4 6 1]\n",
      "[11 63 75 64  3]\n",
      "[[ 3 11 64 75 63]\n",
      " [ 5 23 54 22 66]]\n"
     ]
    }
   ],
   "source": [
    "# Generate Random Permutations \n",
    "\n",
    "# generating permutations from 1:N\n",
    "w = np.random.permutation(7)\n",
    "print(w)\n",
    "\n",
    "# generating permutation of arrays\n",
    "r1 = np.array([3,11,64,75,63])\n",
    "r2 = np.array([[3,11,64,75,63],[5,23,54,22,66]])\n",
    "r1_permute = np.random.permutation(r1)\n",
    "r2_permute = np.random.permutation(r2)\n",
    "print(r1_permute)\n",
    "print(r2_permute)"
   ]
  },
  {
   "cell_type": "code",
   "execution_count": 27,
   "metadata": {},
   "outputs": [
    {
     "name": "stdout",
     "output_type": "stream",
     "text": [
      "ONE HOT ENCODING\n",
      "[[2 1 1 2 0]]\n",
      "\n",
      "\n",
      "1 5\n",
      "\n",
      "\n",
      "[2 1 1 2 0]\n",
      "\n",
      "\n",
      "[0 1 2 3 4]\n",
      "\n",
      "\n",
      "[[0. 0. 0.]\n",
      " [0. 0. 0.]\n",
      " [0. 0. 0.]\n",
      " [0. 0. 0.]\n",
      " [0. 0. 0.]]\n",
      "\n",
      "\n",
      "[[0. 0. 1.]\n",
      " [0. 1. 0.]\n",
      " [0. 1. 0.]\n",
      " [0. 0. 1.]\n",
      " [1. 0. 0.]]\n"
     ]
    }
   ],
   "source": [
    "#Creating one hot vector. Let class be y.\n",
    "print(\"ONE HOT ENCODING\")\n",
    "y = np.array([[2,1,1,2,0]])\n",
    "print(y)\n",
    "print(\"\\n\")\n",
    "R,C = y.shape\n",
    "print(R,C)\n",
    "print(\"\\n\")\n",
    "y = y.reshape(C)\n",
    "print(y)\n",
    "print(\"\\n\")\n",
    "\n",
    "rows = np.arange(0,C)\n",
    "print(rows)\n",
    "print(\"\\n\")\n",
    "one_hot_mat = np.zeros([C,np.max(y)+1])\n",
    "print(one_hot_mat)\n",
    "print(\"\\n\")\n",
    "one_hot_mat[[rows],[y]]=1\n",
    "print(one_hot_mat)\n",
    "    "
   ]
  },
  {
   "cell_type": "markdown",
   "metadata": {},
   "source": [
    "#### Loading Data From File "
   ]
  },
  {
   "cell_type": "code",
   "execution_count": 28,
   "metadata": {},
   "outputs": [
    {
     "name": "stdout",
     "output_type": "stream",
     "text": [
      "[[  1.  13.  21.  11. 196.  75.   4.   3.  34.   6.   7.   8.   0.   1.\n",
      "    2.   3.   4.   5.]\n",
      " [  3.  42.  12.  33. 766.  75.   4.  55.   6.   4.   3.   4.   5.   6.\n",
      "    7.   0.  11.  12.]\n",
      " [  1.  22.  33.  11. 999.  11.   2.   1.  78.   0.   1.   2.   9.   8.\n",
      "    7.   1.  76.  88.]]\n",
      "[[  1  13  21  11 196  75   4   3  34   6   7   8   0   1   2   3   4   5]\n",
      " [  3  42  12  33 766  75   4  55   6   4   3   4   5   6   7   0  11  12]\n",
      " [  1  22  33  11 999  11   2   1  78   0   1   2   9   8   7   1  76  88]]\n"
     ]
    }
   ],
   "source": [
    "filedata = np.genfromtxt('data.txt', delimiter=',')\n",
    "print(filedata)\n",
    "filedata = filedata.astype('int32')\n",
    "print(filedata)"
   ]
  },
  {
   "cell_type": "markdown",
   "metadata": {},
   "source": [
    "#### Boolean Masking and Advanced Indexing"
   ]
  },
  {
   "cell_type": "code",
   "execution_count": 29,
   "metadata": {},
   "outputs": [
    {
     "data": {
      "text/plain": [
       "array([[False,  True,  True,  True,  True,  True, False, False,  True,\n",
       "        False, False, False, False, False, False, False, False, False],\n",
       "       [False,  True,  True,  True,  True,  True, False,  True, False,\n",
       "        False, False, False, False, False, False, False,  True,  True],\n",
       "       [False,  True,  True,  True,  True,  True, False, False,  True,\n",
       "        False, False, False, False, False, False, False,  True,  True]])"
      ]
     },
     "execution_count": 29,
     "metadata": {},
     "output_type": "execute_result"
    }
   ],
   "source": [
    "filedata > 10"
   ]
  },
  {
   "cell_type": "code",
   "execution_count": 30,
   "metadata": {},
   "outputs": [
    {
     "data": {
      "text/plain": [
       "array([[ True,  True,  True,  True,  True,  True,  True,  True,  True,\n",
       "         True,  True,  True, False,  True,  True,  True,  True,  True],\n",
       "       [ True,  True,  True,  True,  True,  True,  True,  True,  True,\n",
       "         True,  True,  True,  True,  True,  True, False,  True,  True],\n",
       "       [ True,  True,  True,  True,  True,  True,  True,  True,  True,\n",
       "        False,  True,  True,  True,  True,  True,  True,  True,  True]])"
      ]
     },
     "execution_count": 30,
     "metadata": {},
     "output_type": "execute_result"
    }
   ],
   "source": [
    "filedata >= 1"
   ]
  },
  {
   "cell_type": "code",
   "execution_count": 31,
   "metadata": {},
   "outputs": [
    {
     "data": {
      "text/plain": [
       "array([196,  75, 766,  75,  55, 999,  78,  76,  88], dtype=int32)"
      ]
     },
     "execution_count": 31,
     "metadata": {},
     "output_type": "execute_result"
    }
   ],
   "source": [
    "filedata[filedata > 50]"
   ]
  },
  {
   "cell_type": "code",
   "execution_count": 32,
   "metadata": {},
   "outputs": [
    {
     "name": "stdout",
     "output_type": "stream",
     "text": [
      "[[ 1  2  3  4]\n",
      " [ 7  8  9 10]\n",
      " [11 12 13 14]\n",
      " [15 16 17 18]]\n",
      "[ 2  9 14]\n",
      "[[ 1  2  3  4]\n",
      " [11 12 13 14]\n",
      " [15 16 17 18]]\n"
     ]
    }
   ],
   "source": [
    "# We can index with a list in NumPy\n",
    "a = np.array([1,2,3,4,5,6,7,8,9])\n",
    "a[[1,2,8]]\n",
    "\n",
    "b = np.array([[1,2,3,4],[7,8,9,10],[11,12,13,14],[15,16,17,18]])\n",
    "print(b)\n",
    "\n",
    "# Suppose we want the diagonal elements 2,9,14\n",
    "print(b[[0,1,2],[1,2,3]])\n",
    "# first list for all the rows in which elements exist, second for all the columns in which the elements exist. \n",
    "\n",
    "# Suppose I want the matrix: [[3,4],[13,14],[17,18]]\n",
    "print(b[[0,2,3], :])\n"
   ]
  },
  {
   "cell_type": "code",
   "execution_count": 33,
   "metadata": {},
   "outputs": [
    {
     "data": {
      "text/plain": [
       "array([False, False, False, False,  True,  True, False,  True,  True,\n",
       "       False, False, False, False, False, False, False,  True,  True])"
      ]
     },
     "execution_count": 33,
     "metadata": {},
     "output_type": "execute_result"
    }
   ],
   "source": [
    "np.any(filedata >= 50, axis = 0) #if ANY value in the cols is greater than 50"
   ]
  },
  {
   "cell_type": "code",
   "execution_count": 34,
   "metadata": {},
   "outputs": [
    {
     "data": {
      "text/plain": [
       "array([False, False, False, False,  True,  True, False,  True,  True,\n",
       "       False, False, False, False, False, False, False,  True,  True])"
      ]
     },
     "execution_count": 34,
     "metadata": {},
     "output_type": "execute_result"
    }
   ],
   "source": [
    "np.any(filedata > 50, axis = 0) #if ALL value in the cols is greater than 50"
   ]
  },
  {
   "cell_type": "code",
   "execution_count": 35,
   "metadata": {},
   "outputs": [
    {
     "data": {
      "text/plain": [
       "array([[False, False, False, False, False, False, False, False, False,\n",
       "        False, False, False, False, False, False, False, False, False],\n",
       "       [False, False, False, False, False, False, False, False, False,\n",
       "        False, False, False, False, False, False, False, False, False],\n",
       "       [False, False, False, False, False, False, False, False, False,\n",
       "        False, False, False, False, False, False, False, False, False]])"
      ]
     },
     "execution_count": 35,
     "metadata": {},
     "output_type": "execute_result"
    }
   ],
   "source": [
    "((filedata > 50) & (filedata < 50))"
   ]
  },
  {
   "cell_type": "code",
   "execution_count": 36,
   "metadata": {},
   "outputs": [
    {
     "data": {
      "text/plain": [
       "array([[ True,  True,  True,  True, False, False,  True,  True,  True,\n",
       "         True,  True,  True,  True,  True,  True,  True,  True,  True],\n",
       "       [ True,  True,  True,  True, False, False,  True, False,  True,\n",
       "         True,  True,  True,  True,  True,  True,  True,  True,  True],\n",
       "       [ True,  True,  True,  True, False,  True,  True,  True, False,\n",
       "         True,  True,  True,  True,  True,  True,  True, False, False]])"
      ]
     },
     "execution_count": 36,
     "metadata": {},
     "output_type": "execute_result"
    }
   ],
   "source": [
    "(~(filedata > 50) & (filedata < 50)) # NOT : ~"
   ]
  },
  {
   "cell_type": "code",
   "execution_count": 37,
   "metadata": {},
   "outputs": [
    {
     "name": "stdout",
     "output_type": "stream",
     "text": [
      "0.954434002924965\n"
     ]
    }
   ],
   "source": [
    "# Entropy of Class Labels\n",
    "counts = np.array([5,3])\n",
    "categorical_dist_counts = counts/8   #Computes p_i\n",
    "categorical_dist_counts = categorical_dist_counts[categorical_dist_counts > 0] #Removes p_i=0\n",
    "log_counts = np.log2(categorical_dist_counts) #applies log \n",
    "entropy = (counts/8)*log_counts#finds entropy. \n",
    "entropy = -(np.sum(entropy))\n",
    "print(entropy)"
   ]
  },
  {
   "cell_type": "code",
   "execution_count": null,
   "metadata": {},
   "outputs": [],
   "source": []
  },
  {
   "cell_type": "code",
   "execution_count": 38,
   "metadata": {
    "scrolled": false
   },
   "outputs": [
    {
     "name": "stdout",
     "output_type": "stream",
     "text": [
      "[[ 33  34 345   4]\n",
      " [ 52  56  46   5]\n",
      " [ 44 687 886   5]\n",
      " [ 53 678  56   7]] [[2]\n",
      " [1]\n",
      " [2]\n",
      " [0]]\n",
      "\n",
      "\n",
      "[[ 33  34 345   4]\n",
      " [ 52  56  46   5]\n",
      " [ 44 687 886   5]\n",
      " [ 53 678  56   7]] [[2]\n",
      " [1]\n",
      " [2]\n",
      " [0]]\n",
      "\n",
      "\n",
      "[4 5 7] [0 1 3]\n",
      "2\n",
      "==================\n",
      "[[2]]\n",
      "[[1]\n",
      " [2]\n",
      " [0]]\n",
      "===\n",
      "[0 0 1]\n",
      "===\n",
      "===\n",
      "[1 1 1]\n",
      "===\n",
      "==================\n",
      "split (index, value): (0, 4), H_data: 5, H_left: -0.0, H_right: 1.584962500721156, Info Gain: 3.415037499278844\n",
      "==================\n",
      "[[2]\n",
      " [1]]\n",
      "[[2]\n",
      " [0]]\n",
      "===\n",
      "[0 1 1]\n",
      "===\n",
      "===\n",
      "[1 0 1]\n",
      "===\n",
      "==================\n",
      "split (index, value): (1, 5), H_data: 5, H_left: 1.0, H_right: 1.0, Info Gain: 3.0\n"
     ]
    }
   ],
   "source": [
    "def entropy(y):\n",
    "     # Get the number of data points per class.\n",
    "        (counts, _) = np.histogram(y, bins=np.arange(3 + 1))\n",
    "        # ====================================================\n",
    "        # TODO: Implement your solution within the box\n",
    "        # Set the entropy of the unnormalized categorical distribution counts\n",
    "        # Make sure the case where p_i = 0 is handeled appropriately.\n",
    "        N,K = y.shape\n",
    "        print(\"===\")\n",
    "        print(counts)\n",
    "        print(\"===\")\n",
    "        categorical_dist_counts = counts/N                                             #Computes p_i\n",
    "        categorical_dist_counts = categorical_dist_counts[categorical_dist_counts != 0] #Removes p_i=0\n",
    "        log_counts = np.log2(categorical_dist_counts)                                  #applies log \n",
    "        entropy = (categorical_dist_counts)*log_counts  \n",
    "        entropy = -(np.sum(entropy))                                                   #finds entropy.\n",
    "        # ====================================================\n",
    "        return entropy\n",
    "\n",
    "X = np.array([[33,34,345,4],[52,56,46,5],[44,687,886,5],[53,678,56,7]])\n",
    "y = np.array([[2,1,2,0]])\n",
    "y = y.reshape((4,1))\n",
    "print(X,y)\n",
    "print(\"\\n\")\n",
    "\n",
    "split_dim = 3\n",
    "sort_idx = np.argsort(X[:, split_dim])\n",
    "X = X[sort_idx]\n",
    "y = y[sort_idx]\n",
    "print(X,y)\n",
    "print(\"\\n\")\n",
    "\n",
    "(unique_values, first_idxes) = np.unique(X[:, split_dim], return_index=True)\n",
    "print(unique_values,first_idxes)\n",
    "print(unique_values.shape[0]-1)\n",
    "\n",
    "# TODO: Implement your solution within the box\n",
    " # Initialize variables\n",
    "current_split_index = 0\n",
    "current_split_value = X[:,0]\n",
    "H_left = 0\n",
    "H_right = 0\n",
    "H_data=5\n",
    "current_information_gain = 0\n",
    "maximum_information_gain = 0 \n",
    "        \n",
    "# Iterate over possible split values and find optimal split that maximizes the information gain.\n",
    "for ii in range(unique_values.shape[0] - 1):\n",
    "    # Split data by split value and compute information gain.\n",
    "    print(\"==================\")\n",
    "    current_split_value = unique_values[ii]\n",
    "    current_split_index = first_idxes[ii]\n",
    "    y_left = y[:ii+1,:]\n",
    "    print(y_left)\n",
    "    y_right = y[ii+1:,:]\n",
    "    print(y_right)\n",
    "    \n",
    "    H_left= entropy(y_left)\n",
    "    H_right= entropy(y_right)\n",
    "    \n",
    "    current_information_gain = H_data - (H_left + H_right)\n",
    "    print(\"==================\")\n",
    "\n",
    "    if True:\n",
    "        print(f\"split (index, value): ({current_split_index}, {current_split_value}), H_data: {H_data}, H_left: {H_left}, H_right: {H_right}, Info Gain: {current_information_gain}\")\n",
    "\n",
    "    # Update maximum information gain when applicable\n",
    "    if current_information_gain >= maximum_information_gain:\n",
    "        maximum_information_gain = current_information_gain\n",
    "    \n",
    "\n",
    "\n"
   ]
  },
  {
   "cell_type": "code",
   "execution_count": 39,
   "metadata": {},
   "outputs": [
    {
     "name": "stdout",
     "output_type": "stream",
     "text": [
      "[[33 44 28 64]\n",
      " [52 72 73 53]\n",
      " [44 13 21  8]\n",
      " [ 2  4  5  7]] [[2]\n",
      " [1]\n",
      " [2]\n",
      " [0]]\n",
      "\n",
      "\n",
      "[[33 44 28 64  2]\n",
      " [52 72 73 53  1]\n",
      " [44 13 21  8  2]\n",
      " [ 2  4  5  7  0]]\n",
      "[[33 44 28 64  2]\n",
      " [ 2  4  5  7  0]\n",
      " [52 72 73 53  1]\n",
      " [44 13 21  8  2]]\n",
      "[[33 44]\n",
      " [ 2  4]] [2 0]\n"
     ]
    }
   ],
   "source": [
    "X = np.array([[33,44,28,64],[52,72,73,53],[44,13,21,8],[2,4,5,7]])\n",
    "y = np.array([[2,1,2,0]])\n",
    "y = y.reshape((4,1))\n",
    "print(X,y)\n",
    "print(\"\\n\")\n",
    "\n",
    "\n",
    "num_data_per_tree = 2\n",
    "num_features_per_tree = 2\n",
    "\n",
    "N,D = X.shape\n",
    "\n",
    "Xy = np.hstack([X,y])\n",
    "print(Xy)\n",
    "Xy = np.random.permutation(Xy)\n",
    "print(Xy)\n",
    "X_sub = Xy[:num_data_per_tree,:num_features_per_tree]\n",
    "y_sub = Xy[:num_data_per_tree,D]\n",
    "\n",
    "print(X_sub,y_sub)\n",
    "\n"
   ]
  },
  {
   "cell_type": "code",
   "execution_count": 40,
   "metadata": {},
   "outputs": [
    {
     "name": "stdout",
     "output_type": "stream",
     "text": [
      "3\n",
      "[[  1   2   3   4]\n",
      " [  3   4  52   2]\n",
      " [ 21  45 632  55]]\n",
      "[[ 1  2]\n",
      " [ 3  4]\n",
      " [21 45]]\n"
     ]
    },
    {
     "data": {
      "text/plain": [
       "array([[ 55, 632,  45,  21],\n",
       "       [  2,  52,   4,   3],\n",
       "       [  4,   3,   2,   1]])"
      ]
     },
     "execution_count": 40,
     "metadata": {},
     "output_type": "execute_result"
    }
   ],
   "source": [
    "y = np.array([[1,2,3,4],[3,4,52,2],[21,45,632,55]])\n",
    "print(y.shape[0])\n",
    "print(y)\n",
    "print(y[:,:2])\n",
    "np.flip(y)\n",
    "    "
   ]
  },
  {
   "cell_type": "code",
   "execution_count": 41,
   "metadata": {},
   "outputs": [
    {
     "name": "stdout",
     "output_type": "stream",
     "text": [
      "3\n"
     ]
    }
   ],
   "source": [
    "print(len([[2],[1],[0]]))"
   ]
  },
  {
   "cell_type": "code",
   "execution_count": 90,
   "metadata": {},
   "outputs": [
    {
     "name": "stdout",
     "output_type": "stream",
     "text": [
      "[[ 1  2  3  4]\n",
      " [ 5  6  7  8]\n",
      " [ 9 10 11 12]] (3, 4)\n",
      "[[ 10.  30.]\n",
      " [ 26. 174.]\n",
      " [ 42. 446.]]\n",
      "[[ 1  2  3  4]\n",
      " [ 5  6  7  8]\n",
      " [ 9 10 11 12]]\n",
      "[[ 10.  30.  10.]\n",
      " [ 26. 174.  26.]\n",
      " [ 42. 446.  42.]]\n",
      "[[  1   4   9  16]\n",
      " [ 25  36  49  64]\n",
      " [ 81 100 121 144]]\n",
      "[[ 10.  30.  10.  30.]\n",
      " [ 26. 174.  26. 174.]\n",
      " [ 42. 446.  42. 446.]]\n"
     ]
    },
    {
     "data": {
      "text/plain": [
       "array([[ 10.,  30.],\n",
       "       [ 26., 174.],\n",
       "       [ 42., 446.]])"
      ]
     },
     "execution_count": 90,
     "metadata": {},
     "output_type": "execute_result"
    }
   ],
   "source": [
    "X = np.array([[1,2,3,4], [5,6,7,8], [9,10,11,12]])\n",
    "print(X, X.shape)\n",
    "\n",
    "A = np.empty((3,2))\n",
    "print(A)\n",
    "\n",
    "ones = np.ones((X.shape[0],1))\n",
    "\n",
    "for i in range(1,3):\n",
    "    ai = X**i\n",
    "    print(ai)\n",
    "    ai = np.sum(ai, axis=1)\n",
    "    ai = ai.reshape((3,1))\n",
    "    A = np.hstack((A,ai))\n",
    "    print(A)\n",
    "\n",
    "\n",
    "A[:,2:]\n",
    "\n"
   ]
  },
  {
   "cell_type": "code",
   "execution_count": null,
   "metadata": {},
   "outputs": [],
   "source": [
    "sdfkn sdfklm"
   ]
  },
  {
   "cell_type": "code",
   "execution_count": 158,
   "metadata": {},
   "outputs": [
    {
     "ename": "SyntaxError",
     "evalue": "unexpected EOF while parsing (<ipython-input-158-f54d52cdb4aa>, line 8)",
     "output_type": "error",
     "traceback": [
      "\u001b[0;36m  File \u001b[0;32m\"<ipython-input-158-f54d52cdb4aa>\"\u001b[0;36m, line \u001b[0;32m8\u001b[0m\n\u001b[0;31m    \u001b[0m\n\u001b[0m    ^\u001b[0m\n\u001b[0;31mSyntaxError\u001b[0m\u001b[0;31m:\u001b[0m unexpected EOF while parsing\n"
     ]
    }
   ],
   "source": [
    "from sklearn.datasets import make_blobs\n",
    "\n",
    "X, y = make_blobs(n_samples=20, centers=[(0,0), (5,5), (-5, 5)], random_state=0)\n",
    "\n",
    "for i in range(3):\n",
    "    (np.array([X[np.where(y==i)].mean(axis=0)])\n",
    "          \n",
    "    "
   ]
  },
  {
   "cell_type": "code",
   "execution_count": 98,
   "metadata": {},
   "outputs": [
    {
     "name": "stdout",
     "output_type": "stream",
     "text": [
      "[[23 34 11]\n",
      " [33 44 53]\n",
      " [ 5  5 15]]\n",
      "[[0.5 0.3 0.6]\n",
      " [0.1 0.5 0.9]\n",
      " [1.  2.  4. ]]\n",
      "(6, 6)\n",
      "(3, 3)\n"
     ]
    }
   ],
   "source": [
    "x1 = np.array([[23,34,11],[33,44,53],[5,5,15]])\n",
    "x2 = np.array([[0.5,0.3,0.6],[0.1,0.5,.9],[1,2,4]])\n",
    "print(x1)\n",
    "print(x2)\n",
    "\n",
    "print(np.cov(x1,x2).shape)\n",
    "\n",
    "print(np.dot(x1.T,x1).shape)\n",
    "\n",
    "\n",
    "\n",
    "\n",
    "\n"
   ]
  },
  {
   "cell_type": "code",
   "execution_count": 148,
   "metadata": {},
   "outputs": [
    {
     "name": "stdout",
     "output_type": "stream",
     "text": [
      "(8, 1)\n"
     ]
    },
    {
     "data": {
      "text/plain": [
       "array([[0.   ],\n",
       "       [0.375],\n",
       "       [0.5  ],\n",
       "       [0.125]])"
      ]
     },
     "execution_count": 148,
     "metadata": {},
     "output_type": "execute_result"
    }
   ],
   "source": [
    "c = np.array([[1,2,3,1,1,2,2,2]]).T\n",
    "print(c.shape)\n",
    "y = np.array(c.flatten())\n",
    "t = np.bincount(y)\n",
    "t = t.reshape((4,1))\n",
    "t/len(y)"
   ]
  },
  {
   "cell_type": "code",
   "execution_count": 188,
   "metadata": {},
   "outputs": [
    {
     "name": "stdout",
     "output_type": "stream",
     "text": [
      "[[33.  44.  53. ]\n",
      " [ 0.5  0.3  0.6]\n",
      " [ 1.   2.   4. ]]\n",
      "[1 2 3]\n"
     ]
    }
   ],
   "source": [
    "train_X = np.array([[23,34,11],[33,44,53],[5,5,15],[0.5,0.3,0.6],[0.1,0.5,.9],[1,2,4] ])\n",
    "train_y = np.array([[1,2,3,2,1,2]]).T\n",
    "train_y.shape\n",
    "print(train_X[train_y.flatten()==2,:])\n",
    "np.mean(train_X[train_y.flatten()==2,:],axis=0,keepdims=True)\n",
    "\n",
    "print(np.unique(train_y))\n"
   ]
  },
  {
   "cell_type": "code",
   "execution_count": 167,
   "metadata": {},
   "outputs": [
    {
     "name": "stdout",
     "output_type": "stream",
     "text": [
      "[[0.6853714 0.       ]\n",
      " [0.        0.9789976]]\n",
      "[[1.40218915 0.        ]\n",
      " [0.         0.67078568]]\n",
      "[[0.88192625 0.        ]\n",
      " [0.         1.12879666]]\n"
     ]
    }
   ],
   "source": [
    "from sklearn.datasets import make_blobs\n",
    "\n",
    "X, y = make_blobs(n_samples=20, centers=[(0,0), (5,5), (-5, 5)], random_state=0)\n",
    "a = np.ones((3,2))\n",
    "\n",
    "for i in range(3):\n",
    "    a[i,:]=np.array([X[y==i,:].std(axis=0)])\n",
    "    print(np.diagflat(a[i,:].flatten()))"
   ]
  },
  {
   "cell_type": "code",
   "execution_count": 205,
   "metadata": {},
   "outputs": [
    {
     "name": "stdout",
     "output_type": "stream",
     "text": [
      "[[[1. 0.]\n",
      "  [0. 1.]]\n",
      "\n",
      " [[1. 0.]\n",
      "  [0. 1.]]]\n",
      "[[ 0.21269757  0.00491875]\n",
      " [-0.03564063  0.58701058]\n",
      " [ 0.24542893 -0.43066447]\n",
      " [-0.04470042 -0.16948542]\n",
      " [-0.37778543  0.00822058]]\n",
      "[[ 0.25146583 -0.12110229]\n",
      " [-0.12110229  0.55887039]]\n",
      "5\n",
      "[[-0.15405816  0.40609961]\n",
      " [ 0.04105252 -0.01530503]\n",
      " [-0.05924686  0.05173504]\n",
      " [ 0.27286055 -0.11865879]\n",
      " [-0.10060804 -0.32387084]]\n",
      "[[ 0.11350427 -0.0660497 ]\n",
      " [-0.0660497   0.28679988]]\n",
      "5\n",
      "3.999999840932669\n"
     ]
    },
    {
     "data": {
      "text/plain": [
       "array([[[ 0.06286646, -0.03027557],\n",
       "        [-0.03027557,  0.1397176 ]],\n",
       "\n",
       "       [[ 0.02837607, -0.01651242],\n",
       "        [-0.01651242,  0.07169997]]])"
      ]
     },
     "execution_count": 205,
     "metadata": {},
     "output_type": "execute_result"
    }
   ],
   "source": [
    "train_X = np.array([[-0.44215767,  0.12654082],\n",
    " [-0.69049587,  0.70863265],\n",
    " [-0.40942631, -0.3090424 ],\n",
    " [-0.69955566, -0.04786335],\n",
    " [-1.03264067,  0.12984265],\n",
    " [ 0.04555058, -0.54011834],\n",
    " [ 0.24066126, -0.96152298],\n",
    " [ 0.14036188, -0.89448291],\n",
    " [ 0.47246929, -1.06487674],\n",
    " [ 0.0990007,  -1.27008879]])\n",
    "\n",
    "train_y = np.array([[0],\n",
    " [0],\n",
    " [0],\n",
    " [0],\n",
    " [0],\n",
    " [1],\n",
    " [1],\n",
    " [1],\n",
    " [1],\n",
    " [1]])\n",
    "\n",
    "\n",
    "means = np.array([[-0.65485524,  0.12162207],\n",
    " [ 0.19960874, -0.94621795]])\n",
    "\n",
    "covariances= np.tile(np.eye(2), reps=(2, 1, 1))\n",
    "print(covariances)\n",
    "\n",
    "for j in range(2):\n",
    "    cov_mat = train_X[train_y.flatten()==j] - means[j,:]\n",
    "    print(cov_mat)\n",
    "    cov_k = np.matmul(cov_mat.T,cov_mat)\n",
    "    print(cov_k)\n",
    "    print(cov_mat.shape[0])\n",
    "    covariances[j,:,:] = cov_k/4\n",
    "\n",
    "print(0.25146583/0.06286646)\n",
    "\n",
    "covariances\n",
    "\n"
   ]
  },
  {
   "cell_type": "code",
   "execution_count": 178,
   "metadata": {},
   "outputs": [
    {
     "data": {
      "text/plain": [
       "3"
      ]
     },
     "execution_count": 178,
     "metadata": {},
     "output_type": "execute_result"
    }
   ],
   "source": [
    "num_validation_data = min(10 - 1, round(10 * 0.3))\n",
    "num_validation_data"
   ]
  },
  {
   "cell_type": "code",
   "execution_count": 180,
   "metadata": {},
   "outputs": [
    {
     "data": {
      "text/plain": [
       "array([[-0.69955566, -0.04786335],\n",
       "       [-1.03264067,  0.12984265],\n",
       "       [ 0.04555058, -0.54011834],\n",
       "       [ 0.24066126, -0.96152298],\n",
       "       [ 0.14036188, -0.89448291],\n",
       "       [ 0.47246929, -1.06487674],\n",
       "       [ 0.0990007 , -1.27008879]])"
      ]
     },
     "execution_count": 180,
     "metadata": {},
     "output_type": "execute_result"
    }
   ],
   "source": [
    "train_X = np.array([[ 0.04555058, -0.54011834],\n",
    " [ 0.24066126, -0.96152298],\n",
    " [ 0.14036188, -0.89448291],\n",
    " [ 0.47246929, -1.06487674],\n",
    " [ 0.0990007,  -1.27008879]])\n",
    "\n",
    "        \n",
    "\n",
    "           \n",
    "            \n",
    "            \n",
    "        "
   ]
  },
  {
   "cell_type": "code",
   "execution_count": 185,
   "metadata": {},
   "outputs": [
    {
     "data": {
      "text/plain": [
       "5"
      ]
     },
     "execution_count": 185,
     "metadata": {},
     "output_type": "execute_result"
    }
   ],
   "source": [
    "t = [1,2,3,4,5,0,3]\n",
    "np.argmin(t)"
   ]
  },
  {
   "cell_type": "code",
   "execution_count": null,
   "metadata": {},
   "outputs": [],
   "source": []
  },
  {
   "cell_type": "code",
   "execution_count": null,
   "metadata": {},
   "outputs": [],
   "source": []
  },
  {
   "cell_type": "code",
   "execution_count": null,
   "metadata": {},
   "outputs": [],
   "source": []
  }
 ],
 "metadata": {
  "file_extension": ".py",
  "kernelspec": {
   "display_name": "Python 3",
   "language": "python",
   "name": "python3"
  },
  "language_info": {
   "codemirror_mode": {
    "name": "ipython",
    "version": 3
   },
   "file_extension": ".py",
   "mimetype": "text/x-python",
   "name": "python",
   "nbconvert_exporter": "python",
   "pygments_lexer": "ipython3",
   "version": "3.8.5"
  },
  "mimetype": "text/x-python",
  "name": "python",
  "npconvert_exporter": "python",
  "pygments_lexer": "ipython3",
  "version": 3
 },
 "nbformat": 4,
 "nbformat_minor": 2
}
